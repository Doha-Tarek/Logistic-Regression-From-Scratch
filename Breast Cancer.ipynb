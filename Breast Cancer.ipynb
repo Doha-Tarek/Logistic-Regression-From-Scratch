{
 "cells": [
  {
   "cell_type": "code",
   "execution_count": 8,
   "id": "32062202",
   "metadata": {},
   "outputs": [],
   "source": [
    "from Logistic import LogisticRegression\n",
    "import numpy as np"
   ]
  },
  {
   "cell_type": "code",
   "execution_count": 2,
   "id": "8fe63599",
   "metadata": {},
   "outputs": [],
   "source": [
    "from sklearn.model_selection import train_test_split\n",
    "from sklearn import datasets"
   ]
  },
  {
   "cell_type": "code",
   "execution_count": 3,
   "id": "5e4a8179",
   "metadata": {},
   "outputs": [],
   "source": [
    "df = datasets.load_breast_cancer()\n",
    "X , y = df.data , df.target"
   ]
  },
  {
   "cell_type": "code",
   "execution_count": 4,
   "id": "233a390c",
   "metadata": {},
   "outputs": [],
   "source": [
    "X_train , X_test , y_train , y_test = train_test_split(X , y , test_size = 0.2 , random_state = 1234)"
   ]
  },
  {
   "cell_type": "code",
   "execution_count": 5,
   "id": "6b735b2f",
   "metadata": {},
   "outputs": [],
   "source": [
    "def accuracy(y_true , y_pred):\n",
    "    accuracy = np.sum(y_true == y_pred) / len(y_true)\n",
    "    return accuracy"
   ]
  },
  {
   "cell_type": "code",
   "execution_count": 6,
   "id": "b18b53aa",
   "metadata": {},
   "outputs": [],
   "source": [
    "regressor = LogisticRegression()"
   ]
  },
  {
   "cell_type": "code",
   "execution_count": 9,
   "id": "d35bf9c3",
   "metadata": {},
   "outputs": [
    {
     "name": "stdout",
     "output_type": "stream",
     "text": [
      "Logistice Regression Classification Accurcy: 0.8947368421052632\n"
     ]
    }
   ],
   "source": [
    "regressor.fit(X_train , y_train)\n",
    "predictions = regressor.predict(X_test)\n",
    "print(f\"Logistice Regression Classification Accurcy: {accuracy(y_test ,predictions )}\")"
   ]
  },
  {
   "cell_type": "code",
   "execution_count": null,
   "id": "137358a0",
   "metadata": {},
   "outputs": [],
   "source": []
  }
 ],
 "metadata": {
  "kernelspec": {
   "display_name": "Python 3",
   "language": "python",
   "name": "python3"
  },
  "language_info": {
   "codemirror_mode": {
    "name": "ipython",
    "version": 3
   },
   "file_extension": ".py",
   "mimetype": "text/x-python",
   "name": "python",
   "nbconvert_exporter": "python",
   "pygments_lexer": "ipython3",
   "version": "3.8.8"
  }
 },
 "nbformat": 4,
 "nbformat_minor": 5
}
